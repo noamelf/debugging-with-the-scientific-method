{
 "cells": [
  {
   "cell_type": "markdown",
   "metadata": {},
   "source": [
    "# Debugging with the scientific method"
   ]
  },
  {
   "cell_type": "markdown",
   "metadata": {},
   "source": [
    "## Write it down!\n",
    "After intuition fails you, try and write what you are thinking, it help clear the mind (and avoid desparate, time wasting, debugging). The scientific method provides a great framework for that:\n",
    "\n",
    "#### Problem Statement\n",
    "Write down the problem you’re trying to fix, and write down any observations about it.\n",
    "\n",
    "#### Hypothesis\n",
    "a description of the theory you are about to test\n",
    "\n",
    "#### Experiment\n",
    "a description of the metrics you’re going to look at, code you’re going to change, query you’re going to run, etc\n",
    "\n",
    "#### Expected Results\n",
    "Roughly what results you expect. If it’s a database query, often a count of rows. If its a log file, the line(s) you’re looking for. If it’s a metric, a trend and some limits\n",
    "\n",
    "#### Actual Results\n",
    "The results of the experiment. I like pasting in screenshots of graphs for metrics, the actual log lines, query results etc."
   ]
  },
  {
   "cell_type": "markdown",
   "metadata": {},
   "source": [
    "## Let's try it out!"
   ]
  },
  {
   "cell_type": "code",
   "execution_count": 7,
   "metadata": {
    "collapsed": false
   },
   "outputs": [
    {
     "name": "stdout",
     "output_type": "stream",
     "text": [
      "0\n",
      "1\n",
      "2\n",
      "[0, 1, 2]\n"
     ]
    }
   ],
   "source": [
    "class Foo(object):\n",
    "    def __§init__(self, n):\n",
    "        self.generator = (x for x in range(n))\n",
    "\n",
    "    def __iter__(self):\n",
    "        for e in self.generator:\n",
    "            yield e\n",
    "            \n",
    "for c in Foo(3):\n",
    "    print(c)\n",
    "    \n",
    "print(list(Foo(3)))"
   ]
  },
  {
   "cell_type": "code",
   "execution_count": 11,
   "metadata": {
    "collapsed": false
   },
   "outputs": [
    {
     "name": "stdout",
     "output_type": "stream",
     "text": [
      "0\n",
      "1\n",
      "2\n",
      "[]\n"
     ]
    }
   ],
   "source": [
    "class Bar(Foo):\n",
    "    def __len__(self):\n",
    "        return sum(1 for _ in self.generator)\n",
    "    \n",
    "for c in Bar(3):\n",
    "    print(c)\n",
    "    \n",
    "print(list(Bar(3)))"
   ]
  },
  {
   "cell_type": "markdown",
   "metadata": {},
   "source": [
    "Benefits"
   ]
  },
  {
   "cell_type": "markdown",
   "metadata": {},
   "source": [
    "## Reference\n",
    "* [How to Fix the Hardest Bug You've Ever Seen: The Scientific Method](http://yellerapp.com/posts/2014-08-11-scientific-debugging.html) blog post from Yeller is where I got familiar with this type of thinking.\n",
    "* It was inspierd by [Software Engineers should keep lab notebooks](https://blog.nelhage.com/2010/05/software-and-lab-notebooks/) from Nelson Elhage.\n",
    "* [My first attempt](https://gist.github.com/noamelf/3a31a6eeab87a2627257) (I think) at \"scientific debugging\""
   ]
  }
 ],
 "metadata": {
  "kernelspec": {
   "display_name": "Python 3",
   "language": "python",
   "name": "python3"
  },
  "language_info": {
   "codemirror_mode": {
    "name": "ipython",
    "version": 3
   },
   "file_extension": ".py",
   "mimetype": "text/x-python",
   "name": "python",
   "nbconvert_exporter": "python",
   "pygments_lexer": "ipython3",
   "version": "3.6.0"
  }
 },
 "nbformat": 4,
 "nbformat_minor": 2
}
