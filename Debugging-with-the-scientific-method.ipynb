{
 "cells": [
  {
   "cell_type": "markdown",
   "metadata": {
    "deletable": true,
    "editable": true
   },
   "source": [
    "# Debugging with *the scientific method*\n",
    "### or: scientific debugging\n",
    "\n",
    "\n",
    "\n",
    "Noam Elfanbaum  \n",
    "Developer at Cloudlock (Cisco)  \n",
    "[@noamelf](https://twitter.com/noamelf)  \n",
    "[noamelf.com](noamelf.com)"
   ]
  },
  {
   "cell_type": "markdown",
   "metadata": {},
   "source": [
    "https://www.youtube.com/watch?v=_7sSuhQ1_24"
   ]
  },
  {
   "cell_type": "markdown",
   "metadata": {
    "deletable": true,
    "editable": true
   },
   "source": [
    "## Write it down\n",
    "After intuition fails you, try and write what you are thinking, it help clear the mind (and avoid desparate, time wasting, debugging). The scientific method provides a great framework for that."
   ]
  },
  {
   "cell_type": "markdown",
   "metadata": {
    "deletable": true,
    "editable": true
   },
   "source": [
    "\n",
    "#### Problem Statement\n",
    "Write down the problem you’re trying to fix, and write down any observations about it.\n",
    "\n",
    "#### Hypothesis\n",
    "It stole the generator\n",
    "\n",
    "#### Experiment\n",
    "Move the print list line before  the for loop\n",
    "\n",
    "#### Expected Results\n",
    "Roughly what results you expect. If it’s a database query, often a count of rows. If its a log file, the line(s) you’re looking for. If it’s a metric, a trend and some limits\n",
    "\n",
    "#### Actual Results\n",
    "The results of the experiment. I like pasting in screenshots of graphs for metrics, the actual log lines, query results etc."
   ]
  },
  {
   "cell_type": "markdown",
   "metadata": {},
   "source": [
    "\n",
    "#### Problem Statement\n",
    "נוספה מתודת len\n",
    "\n",
    "#### Hypothesis\n",
    "שימוש בלן אוכל את הגנרטור\n",
    "הליסט משתמש בשיטה לן\n",
    "\n",
    "#### Experiment\n",
    "Add a print in len\n",
    "\n",
    "#### Expected Results\n",
    "Roughly what results you expect. If it’s a database query, often a count of rows. If its a log file, the line(s) you’re looking for. If it’s a metric, a trend and some limits\n",
    "\n",
    "#### Actual Results\n",
    "The results of the experiment. I like pasting in screenshots of graphs for metrics, the actual log lines, query results etc."
   ]
  },
  {
   "cell_type": "markdown",
   "metadata": {
    "deletable": true,
    "editable": true
   },
   "source": [
    "## Let's try it out!\n",
    "Stack overflow is a great source for bug samples, we'll try to solve [this one](http://stackoverflow.com/questions/32078793/annoying-generator-bug). "
   ]
  },
  {
   "cell_type": "code",
   "execution_count": 3,
   "metadata": {
    "collapsed": false,
    "deletable": true,
    "editable": true
   },
   "outputs": [
    {
     "name": "stdout",
     "output_type": "stream",
     "text": [
      "0\n",
      "1\n",
      "2\n",
      "[0, 1, 2]\n"
     ]
    }
   ],
   "source": [
    "class Foo(object):\n",
    "    def __init__(self, n):\n",
    "        self.generator = (x for x in range(n))\n",
    "\n",
    "    def __iter__(self):\n",
    "        for e in self.generator:\n",
    "            yield e\n",
    "            \n",
    "for c in Foo(3):\n",
    "    print(c)\n",
    "    \n",
    "print(list(Foo(3)))"
   ]
  },
  {
   "cell_type": "code",
   "execution_count": 8,
   "metadata": {
    "collapsed": false,
    "deletable": true,
    "editable": true
   },
   "outputs": [
    {
     "name": "stdout",
     "output_type": "stream",
     "text": [
      "[0, 1, 2]\n",
      "0\n",
      "1\n",
      "2\n"
     ]
    }
   ],
   "source": [
    "class Bar(Foo):\n",
    "    def __len__(self):\n",
    "        print(\"I'm len hear me roar\")\n",
    "        return sum(1 for _ in self.generator)\n",
    "    \n",
    "print(list(iter(Bar(3))))\n",
    "    \n",
    "for c in Bar(3):\n",
    "    print(c)"
   ]
  },
  {
   "cell_type": "markdown",
   "metadata": {},
   "source": [
    "![](https://cdn-images-1.medium.com/max/800/1*xi7ddfL9LpTH-pdY20Y_Cw.gif)"
   ]
  },
  {
   "cell_type": "markdown",
   "metadata": {
    "deletable": true,
    "editable": true
   },
   "source": [
    "## Reference\n",
    "* [How to Fix the Hardest Bug You've Ever Seen: The Scientific Method](http://yellerapp.com/posts/2014-08-11-scientific-debugging.html) blog post from Yeller is where I got familiar with this type of thinking.\n",
    "* It was inspierd by [Software Engineers should keep lab notebooks](https://blog.nelhage.com/2010/05/software-and-lab-notebooks/) from Nelson Elhage.\n",
    "* [My first attempt](https://gist.github.com/noamelf/3a31a6eeab87a2627257) (I think) at \"scientific debugging\""
   ]
  }
 ],
 "metadata": {
  "kernelspec": {
   "display_name": "Python 3",
   "language": "python",
   "name": "python3"
  },
  "language_info": {
   "codemirror_mode": {
    "name": "ipython",
    "version": 3
   },
   "file_extension": ".py",
   "mimetype": "text/x-python",
   "name": "python",
   "nbconvert_exporter": "python",
   "pygments_lexer": "ipython3",
   "version": "3.6.0"
  }
 },
 "nbformat": 4,
 "nbformat_minor": 2
}
